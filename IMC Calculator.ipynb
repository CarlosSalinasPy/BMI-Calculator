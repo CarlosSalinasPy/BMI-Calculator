{
 "cells": [
  {
   "cell_type": "code",
   "execution_count": 2,
   "id": "f530a379-1947-4797-ac31-951dd0ce1e6b",
   "metadata": {},
   "outputs": [
    {
     "name": "stdin",
     "output_type": "stream",
     "text": [
      "Introduzca su nombre: carlos\n",
      "Introduzca su peso:  65\n",
      "Introduzca su altura:  172\n"
     ]
    },
    {
     "name": "stdout",
     "output_type": "stream",
     "text": [
      "21.971335857220122\n",
      "carlos, usted tiene un peso normal y saludable.\n",
      "El rango de peso saludable para tu altura es entre 54.7 kg y 73.7 kg.\n"
     ]
    }
   ],
   "source": [
    "nombre = input(\"Introduzca su nombre:\")\n",
    "\n",
    "peso = int(input(\"Introduzca su peso: \"))\n",
    "\n",
    "altura = int(input(\"Introduzca su altura: \"))\n",
    "\n",
    "altura2 = (altura/100)\n",
    "\n",
    "altura3 = (altura2*altura2)\n",
    "\n",
    "BMI = peso / altura3\n",
    "\n",
    "print(BMI)\n",
    "\n",
    "if BMI>0:\n",
    "    if(BMI<18.5):\n",
    "        print(nombre +\", usted está por debajo de su peso.\")\n",
    "    elif(BMI<24.9):\n",
    "        print(nombre +\", usted tiene un peso normal y saludable.\")\n",
    "    elif(BMI<29.9):\n",
    "        print(nombre +\", usted está con sobrepeso.\")\n",
    "    elif(BMI<34.9):\n",
    "        print(nombre +\", usted tiene obesidad.\")\n",
    "    elif(BMI<39.9):\n",
    "        print(nombre +\", usted tiene una severa obesidad.\")\n",
    "    else:\n",
    "        print(nombre +\", usted tiene una obesidad morbida\")\n",
    "else:\n",
    "    print(\"Introduzca valores válidos.\")\n",
    "\n",
    "# Calcular el rango de peso saludable\n",
    "peso_minimo = 18.5 * altura3\n",
    "peso_maximo = 24.9 * altura3\n",
    "\n",
    "# Mostrar el rango de peso saludable\n",
    "print(f\"El rango de peso saludable para tu altura es entre {round(peso_minimo,1)} kg y {round(peso_maximo,1)} kg.\")"
   ]
  },
  {
   "cell_type": "code",
   "execution_count": null,
   "id": "dec30344-ab3c-466b-a4a2-0ef7ca49382b",
   "metadata": {},
   "outputs": [],
   "source": [
    "Menor a 18.5: Bajo peso\n",
    "18.5 – 24.9: Normal o Saludable\n",
    "25.0 – 29.9: Sobrepeso\n",
    "30.0 y superior: Obesidad"
   ]
  }
 ],
 "metadata": {
  "kernelspec": {
   "display_name": "Python 3 (ipykernel)",
   "language": "python",
   "name": "python3"
  },
  "language_info": {
   "codemirror_mode": {
    "name": "ipython",
    "version": 3
   },
   "file_extension": ".py",
   "mimetype": "text/x-python",
   "name": "python",
   "nbconvert_exporter": "python",
   "pygments_lexer": "ipython3",
   "version": "3.11.7"
  }
 },
 "nbformat": 4,
 "nbformat_minor": 5
}
